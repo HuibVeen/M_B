{
 "cells": [
  {
   "cell_type": "code",
   "id": "initial_id",
   "metadata": {
    "collapsed": true,
    "ExecuteTime": {
     "end_time": "2025-02-06T11:37:29.747992Z",
     "start_time": "2025-02-06T11:37:29.685756Z"
    }
   },
   "source": [
    "import pandas as pd\n",
    "from pyvis.network import Network\n",
    "\n",
    "def create_stakeholder_network(file_path, sheet_name=\"Nodes (master)\", output_file=\"stakeholder_network.html\"):\n",
    "    # Load data\n",
    "    df_nodes = pd.read_excel(file_path, sheet_name=sheet_name)\n",
    "\n",
    "    # Create Pyvis network\n",
    "    net = Network(height=\"900px\", width=\"100%\", bgcolor=\"#ffffff\", font_color=\"black\", directed=False)\n",
    "\n",
    "    # Track added nodes to avoid duplicates\n",
    "    added_nodes = set()\n",
    "    \n",
    "    # Ensure missing weights are replaced\n",
    "    df_nodes[\"Weight\"] = df_nodes[\"Weight\"].fillna(1)\n",
    "\n",
    "    # Add nodes and edges\n",
    "    for _, row in df_nodes.iterrows():\n",
    "        bron, node_id, weight = row[\"Bron\"], row[\"ID\"], row[\"Weight\"]\n",
    "\n",
    "        if pd.notna(bron) and pd.notna(node_id):\n",
    "            if bron not in added_nodes:\n",
    "                net.add_node(bron, label=bron, color=\"lightblue\", font={\"size\": 14})\n",
    "                added_nodes.add(bron)\n",
    "\n",
    "            if node_id not in added_nodes:\n",
    "                net.add_node(node_id, label=node_id, color=\"lightgreen\", font={\"size\": 14})\n",
    "                added_nodes.add(node_id)\n",
    "\n",
    "            net.add_edge(bron, node_id, value=weight)\n",
    "\n",
    "    # **Improve Label Spacing and Layout**\n",
    "    net.toggle_physics(True)  \n",
    "    net.force_atlas_2based(\n",
    "        gravity=-50,           # Stronger repulsion (higher negative values push nodes apart)\n",
    "        central_gravity=0.001,  # Prevents tight clustering in the center\n",
    "        spring_length=200,      # Increases spacing between connected nodes\n",
    "        spring_strength=0.05,   # Keeps edges stable but flexible\n",
    "        damping=0.5             # Helps prevent excessive movement\n",
    "    )\n",
    "\n",
    "    # Save and display\n",
    "    net.save_graph(output_file)\n",
    "    print(f\"Stakeholder network saved as {output_file}. Open this file in your browser.\")\n",
    "\n",
    "# Run the function\n",
    "create_stakeholder_network(\"Nodes test (27jan25).xlsx\")"
   ],
   "outputs": [
    {
     "name": "stdout",
     "output_type": "stream",
     "text": [
      "Stakeholder network saved as stakeholder_network.html. Open this file in your browser.\n"
     ]
    }
   ],
   "execution_count": 16
  },
  {
   "metadata": {},
   "cell_type": "code",
   "outputs": [],
   "execution_count": null,
   "source": "",
   "id": "b4499e571267e4e8"
  }
 ],
 "metadata": {
  "kernelspec": {
   "display_name": "Python 3",
   "language": "python",
   "name": "python3"
  },
  "language_info": {
   "codemirror_mode": {
    "name": "ipython",
    "version": 2
   },
   "file_extension": ".py",
   "mimetype": "text/x-python",
   "name": "python",
   "nbconvert_exporter": "python",
   "pygments_lexer": "ipython2",
   "version": "2.7.6"
  }
 },
 "nbformat": 4,
 "nbformat_minor": 5
}
