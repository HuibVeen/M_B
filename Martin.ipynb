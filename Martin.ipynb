{
 "cells": [
  {
   "cell_type": "code",
   "id": "initial_id",
   "metadata": {
    "collapsed": true,
    "ExecuteTime": {
     "end_time": "2025-02-05T14:11:30.295420Z",
     "start_time": "2025-02-05T14:11:30.255450Z"
    }
   },
   "source": [
    "import pandas as pd\n",
    "from pyvis.network import Network\n",
    "\n",
    "def build_stakeholder_network(file_path=\"Nodes test (27jan25).xlsx\", sheet_name=\"Nodes (master)\"):\n",
    "    # Read the specified Excel sheet into a DataFrame\n",
    "    df_nodes = pd.read_excel(file_path, sheet_name=sheet_name)\n",
    "    \n",
    "    # Create a PyVis network\n",
    "    net = Network(height=\"2000px\", width=\"100%\", bgcolor=\"#ffffff\", font_color=\"black\")\n",
    "    \n",
    "    # Iterate over rows and create nodes/edges\n",
    "    for _, row in df_nodes.iterrows():\n",
    "        # Only proceed if \"Bron\" and \"ID\" are not NaN\n",
    "        if pd.notna(row.get(\"Bron\")) and pd.notna(row.get(\"ID\")):\n",
    "            weight = row[\"Weight\"] if pd.notna(row.get(\"Weight\")) else 1\n",
    "            \n",
    "            # Add nodes (PyVis won't duplicate if they already exist)\n",
    "            net.add_node(row[\"Bron\"], label=row[\"Bron\"], color=\"lightblue\")\n",
    "            net.add_node(row[\"ID\"], label=row[\"ID\"], color=\"lightgreen\")\n",
    "            \n",
    "            # Add edge between the two nodes\n",
    "            net.add_edge(row[\"Bron\"], row[\"ID\"], value=weight)\n",
    "    \n",
    "    # Use force-directed layout\n",
    "    net.force_atlas_2based()\n",
    "    \n",
    "    # Export to HTML\n",
    "    html_path = \"stakeholder_network.html\"\n",
    "    net.save_graph(html_path)\n",
    "    print(f\"Stakeholder network saved as {html_path}. Open it in your browser to view the interactive graph.\")\n",
    "\n",
    "if __name__ == \"__main__\":\n",
    "    build_stakeholder_network()\n"
   ],
   "outputs": [
    {
     "name": "stdout",
     "output_type": "stream",
     "text": [
      "Stakeholder network saved as stakeholder_network.html. Open it in your browser to view the interactive graph.\n"
     ]
    }
   ],
   "execution_count": 8
  },
  {
   "metadata": {},
   "cell_type": "code",
   "outputs": [],
   "execution_count": null,
   "source": "",
   "id": "b4499e571267e4e8"
  }
 ],
 "metadata": {
  "kernelspec": {
   "display_name": "Python 3",
   "language": "python",
   "name": "python3"
  },
  "language_info": {
   "codemirror_mode": {
    "name": "ipython",
    "version": 2
   },
   "file_extension": ".py",
   "mimetype": "text/x-python",
   "name": "python",
   "nbconvert_exporter": "python",
   "pygments_lexer": "ipython2",
   "version": "2.7.6"
  }
 },
 "nbformat": 4,
 "nbformat_minor": 5
}
