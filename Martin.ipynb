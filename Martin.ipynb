{
 "cells": [
  {
   "cell_type": "code",
   "id": "initial_id",
   "metadata": {
    "collapsed": true,
    "ExecuteTime": {
     "end_time": "2025-02-05T14:06:36.189900Z",
     "start_time": "2025-02-05T14:06:36.139618Z"
    }
   },
   "source": [
    "import pandas as pd\n",
    "from pyvis.network import Network\n",
    "\n",
    "# Load the Excel file\n",
    "file_path = \"Nodes test (27jan25).xlsx\"  # Ensure this is the correct path\n",
    "xls = pd.ExcelFile(file_path)\n",
    "\n",
    "# Load the \"Nodes (master)\" sheet\n",
    "df_nodes = pd.read_excel(xls, sheet_name=\"Nodes (master)\")\n",
    "\n",
    "# Create a Pyvis network graph\n",
    "net = Network(height=\"750px\", width=\"100%\", bgcolor=\"#ffffff\", font_color=\"black\")\n",
    "\n",
    "# Add nodes and edges from the dataset\n",
    "for _, row in df_nodes.iterrows():\n",
    "    if pd.notna(row[\"Bron\"]) and pd.notna(row[\"ID\"]):  # Ensure values are not NaN\n",
    "        weight = row[\"Weight\"] if pd.notna(row[\"Weight\"]) else 1  # Default weight to 1 if missing\n",
    "        net.add_node(row[\"Bron\"], label=row[\"Bron\"], color=\"lightblue\")\n",
    "        net.add_node(row[\"ID\"], label=row[\"ID\"], color=\"lightgreen\")\n",
    "        net.add_edge(row[\"Bron\"], row[\"ID\"], value=weight)\n",
    "\n",
    "# Enable physics for better visualization\n",
    "net.force_atlas_2based()\n",
    "\n",
    "# Save and display\n",
    "html_path = \"stakeholder_network.html\"\n",
    "net.save_graph(html_path)\n",
    "\n",
    "print(f\"Stakeholder network saved as {html_path}. Open this file in your browser to view the interactive graph.\")\n"
   ],
   "outputs": [
    {
     "name": "stdout",
     "output_type": "stream",
     "text": [
      "Stakeholder network saved as stakeholder_network.html. Open this file in your browser to view the interactive graph.\n"
     ]
    }
   ],
   "execution_count": 4
  },
  {
   "metadata": {},
   "cell_type": "code",
   "outputs": [],
   "execution_count": null,
   "source": "",
   "id": "b4499e571267e4e8"
  }
 ],
 "metadata": {
  "kernelspec": {
   "display_name": "Python 3",
   "language": "python",
   "name": "python3"
  },
  "language_info": {
   "codemirror_mode": {
    "name": "ipython",
    "version": 2
   },
   "file_extension": ".py",
   "mimetype": "text/x-python",
   "name": "python",
   "nbconvert_exporter": "python",
   "pygments_lexer": "ipython2",
   "version": "2.7.6"
  }
 },
 "nbformat": 4,
 "nbformat_minor": 5
}
